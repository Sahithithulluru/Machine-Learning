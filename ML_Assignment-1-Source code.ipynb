{
 "cells": [
  {
   "cell_type": "code",
   "execution_count": 2,
   "id": "8747bcac-3373-4fe1-a742-e862164adf7e",
   "metadata": {},
   "outputs": [
    {
     "name": "stdout",
     "output_type": "stream",
     "text": [
      "The sorted ages are [19, 19, 20, 22, 24, 24, 24, 25, 25, 26]\n",
      "The minimum age is: 19\n",
      "The maximum age is: 26\n",
      "The minimum and maximum ages are added to the list [19, 19, 20, 22, 24, 24, 24, 25, 25, 26, 19, 26]\n",
      "The median age of the list is: 24\n",
      "The average of the list: 22.75\n",
      "the range of the list is: 7\n"
     ]
    }
   ],
   "source": [
    "#Question1\n",
    "# input from question\n",
    "ages = [19, 22, 19, 24, 20, 25, 26, 24, 25, 24]\n",
    "# sorting the ages in ascending order\n",
    "ages = sorted(ages)\n",
    "print(\"The sorted ages are\", ages)\n",
    "\n",
    "# finding the minimum and maximum ages\n",
    "print(\"The minimum age is:\", min(ages))\n",
    "print(\"The maximum age is:\", max(ages))\n",
    "\n",
    "# adding the minimum and maximum to the list\n",
    "ages.append(min(ages))\n",
    "ages.append(max(ages))\n",
    "print(\"The minimum and maximum ages are added to the list\", ages)\n",
    "# finding median of the ages\n",
    "n = len(ages)\n",
    "median = ages[n//2]\n",
    "print(\"The median age of the list is:\", median)\n",
    "\n",
    "# print the average of ages\n",
    "average = sum(ages) / len(ages)\n",
    "print(\"The average of the list:\", average)\n",
    "# range of the ages\n",
    "print(\"the range of the list is:\", max(ages)-min(ages))\n",
    "\n",
    "\n",
    "\n",
    "\n",
    "\n"
   ]
  },
  {
   "cell_type": "code",
   "execution_count": 1,
   "id": "06604a4f-44bc-471e-a0f3-3397ac710319",
   "metadata": {},
   "outputs": [
    {
     "name": "stdout",
     "output_type": "stream",
     "text": [
      "{}\n",
      "The updated dog dictionary: {'name': 'snoopy', 'color': 'white', 'breed': 'Maltipoo', 'legs': '4', 'age': '2'}\n",
      "The keys of dictionary student is: dict_keys(['first_name', 'Last_name', 'gender', 'age', 'marital_status', 'skills', 'Country', 'City', 'address'])\n",
      "9\n",
      "['Programming']\n",
      "['Programming', 'Leadership', 'Dance']\n",
      "['first_name', 'Last_name', 'gender', 'age', 'marital_status', 'skills', 'Country', 'City', 'address']\n",
      "['Sahithi', 'Thulluru', 'Female', '23', 'single', ['Programming', 'Leadership', 'Dance'], 'India', 'Hyderabad', '8/123,Dscolony']\n"
     ]
    }
   ],
   "source": [
    "#Question2\n",
    "# creating an empty dictionary\n",
    "dog = {}\n",
    "print(dog)\n",
    "# adding to dictionary\n",
    "dog = {\"name\": \"snoopy\", \"color\": \"white\", \"breed\": \"Maltipoo\", \"legs\": \"4\", \"age\": \"2\"}\n",
    "print(\"The updated dog dictionary:\", dog)\n",
    "# creating a student dictionary\n",
    "student = {\"first_name\": \"Sahithi\", \"Last_name\": \"Thulluru\", \"gender\": \"Female\", \"age\": \"23\", \"marital_status\": \"single\", \"skills\": [\"Programming\"], \"Country\": \"India\", \"City\": \"Hyderabad\", \"address\": \"8/123,Dscolony\"}\n",
    "student1 = student.keys()\n",
    "print(\"The keys of dictionary student is:\", student1)\n",
    "# Length of student dictionary\n",
    "length = len(student)\n",
    "print(length)\n",
    "# getting the values of a particular key in dictionary\n",
    "print(student[\"skills\"])\n",
    "# Modifying dictionary\n",
    "student[\"skills\"].extend([\"Leadership\", 'Dance'])\n",
    "print(student['skills'])\n",
    "# getting dictionary keys\n",
    "key_List = list(student.keys())\n",
    "print(key_List)\n",
    "# getting values as a list\n",
    "value_list =list(student.values())\n",
    "print(value_list)\n"
   ]
  },
  {
   "cell_type": "code",
   "execution_count": 7,
   "id": "56f623a5-b569-4e9e-a911-1c5627739815",
   "metadata": {},
   "outputs": [
    {
     "name": "stdout",
     "output_type": "stream",
     "text": [
      "('Vamsi', 'Sandeep')\n",
      "('Swathi', 'Ishitha')\n",
      "('Vamsi', 'Sandeep', 'Swathi', 'Ishitha')\n",
      "The number of siblings are; 4\n",
      "Family members are: ('Vamsi', 'Sandeep', 'Swathi', 'Ishitha', 'MPR', 'SK')\n"
     ]
    }
   ],
   "source": [
    "#Question3\n",
    "# creating a tuple of my sisters and brothers\n",
    "brother_names = ('Vamsi', 'Sandeep')\n",
    "sister_names = ('Swathi' , 'Ishitha')\n",
    "print(brother_names)\n",
    "print(sister_names)\n",
    "\n",
    "# Joining the both tuples to siblings\n",
    "siblings = brother_names+sister_names\n",
    "print(siblings)\n",
    "\n",
    "# Number of siblings\n",
    "a = len(siblings)\n",
    "print(\"The number of siblings are;\", a)\n",
    "\n",
    "# Modifying tuple and adding my parents names\n",
    "family_members = siblings +('MPR' , 'SK')\n",
    "print(\"Family members are:\" , family_members)"
   ]
  },
  {
   "cell_type": "code",
   "execution_count": 16,
   "id": "56846d2d-d934-4414-9fb7-bdc62e4a6563",
   "metadata": {
    "scrolled": true
   },
   "outputs": [
    {
     "name": "stdout",
     "output_type": "stream",
     "text": [
      "The length of it_companies is: 7\n",
      "The updated list: {'Amazon', 'IBM', 'Twitter', 'Apple', 'Oracle', 'Facebook', 'Microsoft', 'Google'}\n",
      "After adding multiple companies: {'Amazon', 'IBM', 'Twitter', 'Apple', 'PWC', 'Visteon', 'Google', 'Oracle', 'Facebook', 'Microsoft'}\n",
      "IT companies after removing PWC: {'Amazon', 'IBM', 'Twitter', 'Apple', 'Visteon', 'Google', 'Oracle', 'Facebook', 'Microsoft'}\n",
      "IT companies after removing PWC: {'Amazon', 'IBM', 'Twitter', 'Apple', 'Visteon', 'Google', 'Oracle', 'Facebook', 'Microsoft'}\n",
      "After joining A & B: {19, 20, 22, 24, 25, 26, 27, 28}\n",
      "Intersection of A & B {19, 20, 22, 24, 25, 26}\n",
      "Is A subset of B True\n",
      "Is A and B are disjoint sets: False\n",
      "Joining A with B {19, 20, 22, 24, 25, 26, 27, 28}\n",
      "Joining B with A {19, 20, 22, 24, 25, 26, 27, 28}\n",
      "The Symmetric difference between A and B: {27, 28}\n",
      "The length of age list 8 The length of age set 5\n",
      "lenght is not same\n"
     ]
    }
   ],
   "source": [
    "#Question4\n",
    "# Length of the set it_companies\n",
    "it_companies = {'Facebook', 'Google', 'Microsoft', 'Apple', 'IBM', 'Oracle', 'Amazon'}\n",
    "length = len(it_companies)\n",
    "print('The length of it_companies is:', length)\n",
    "\n",
    "# adding twitter to it_companies\n",
    "it_companies.add('Twitter')\n",
    "print(\"The updated list:\", it_companies)\n",
    "\n",
    "# inserting multiple companies\n",
    "it_companies2 = {'Visteon', 'PWC'}\n",
    "it_companies.update(it_companies2)\n",
    "print('After adding multiple companies:', it_companies)\n",
    "\n",
    "# removing a company\n",
    "it_companies.remove('PWC')\n",
    "print('IT companies after removing PWC:', it_companies)\n",
    "\n",
    "# difference between remove and discard\n",
    "it_companies.discard('PWC')\n",
    "print('IT companies after removing PWC:', it_companies)\n",
    "# In remove() function error will be shown if the item is not fond in set where as discard() will not display any error\n",
    "\n",
    "# Joining A & B\n",
    "A = {19, 22, 24, 20, 25, 26}\n",
    "B = {19, 22, 20, 25, 26, 24, 28, 27}\n",
    "C = A.union(B)\n",
    "print('After joining A & B:', C)\n",
    "\n",
    "# Intersection of two A & B\n",
    "print('Intersection of A & B', A.intersection(B))\n",
    "\n",
    "# finding if A subset of B\n",
    "print(\"Is A subset of B\", A.issubset(B))\n",
    "\n",
    "# finding if A & B are disjoint sets\n",
    "print(\"Is A and B are disjoint sets:\", A.isdisjoint(B))\n",
    "\n",
    "# Joining A with B and B with A\n",
    "print('Joining A with B', A.union(B))\n",
    "print('Joining B with A', B.union(A))\n",
    "\n",
    "# Symmetric difference between A and B\n",
    "print(\"The Symmetric difference between A and B:\", A.symmetric_difference(B))\n",
    "\n",
    "# Deleting the sets completely\n",
    "del A\n",
    "del B\n",
    "#print(\"After deleting the sets:\",A,B)\n",
    "\n",
    "# Ages into Set\n",
    "age = [22, 19, 24, 25, 26, 24, 25, 24]\n",
    "D = set(age)\n",
    "agelist = len(age)\n",
    "ageset = len(D)\n",
    "print(\"The length of age list\", agelist, \"The length of age set\", ageset)\n",
    "if(agelist==ageset):\n",
    "    print('length is same')\n",
    "else:\n",
    "    print('lenght is not same')\n",
    "\n",
    "\n",
    "\n"
   ]
  },
  {
   "cell_type": "code",
   "execution_count": 1,
   "id": "fbb34e93-126d-4a37-a4f4-eb48afcd61e8",
   "metadata": {},
   "outputs": [
    {
     "name": "stdout",
     "output_type": "stream",
     "text": [
      "The area of circle 2826.0\n",
      "The circumference of circle 188.4\n"
     ]
    },
    {
     "name": "stdin",
     "output_type": "stream",
     "text": [
      "Enter radius:  4\n"
     ]
    },
    {
     "name": "stdout",
     "output_type": "stream",
     "text": [
      "The area is: 50.24\n"
     ]
    }
   ],
   "source": [
    "#Question5\n",
    "# Area of a circle\n",
    "radius = 30\n",
    "_area_of_circle_ = 3.14*radius*radius\n",
    "print('The area of circle', _area_of_circle_)\n",
    "\n",
    "# Circumference of a circle\n",
    "_circum_of_circle_ = 2*3.14*30\n",
    "print('The circumference of circle', _circum_of_circle_)\n",
    "\n",
    "# Area of a circle from user input\n",
    "radius = float(input(\"Enter radius: \"))\n",
    "area = 3.14*radius*radius\n",
    "print('The area is:', area)"
   ]
  },
  {
   "cell_type": "code",
   "execution_count": 2,
   "id": "dbbc3b38-d57a-48b3-be39-36f7f9640415",
   "metadata": {},
   "outputs": [
    {
     "name": "stdout",
     "output_type": "stream",
     "text": [
      "['a', 'am', 'and', 'i', 'inspire', 'love', 'people', 'teach', 'teacher', 'to']\n"
     ]
    }
   ],
   "source": [
    "#Question6\n",
    "sentense = \"I am a teacher and I love to inspire and teach people\"\n",
    "text = sentense.lower()\n",
    "words = text.split()\n",
    "words = [word.strip('.,!;()[]') for word in words]\n",
    "words = [word.replace(\"'s\", '') for word in words]\n",
    "\n",
    "#finding unique\n",
    "unique = []\n",
    "for word in words:\n",
    "    if word not in unique:\n",
    "        unique.append(word)\n",
    "\n",
    "#sort\n",
    "unique.sort()\n",
    "\n",
    "#print\n",
    "print(unique)\n",
    "\n"
   ]
  },
  {
   "cell_type": "code",
   "execution_count": 3,
   "id": "20031231-5a5f-4097-82e2-e511205babaf",
   "metadata": {},
   "outputs": [
    {
     "name": "stdout",
     "output_type": "stream",
     "text": [
      "Name\t Age\t Country\t City\t\n",
      "Asabeneh\t 250\t Finland Helsinki\t\n"
     ]
    }
   ],
   "source": [
    "#Question7\n",
    "# Using \\t to get the output as required\n",
    "print(\"Name\\t Age\\t Country\\t City\\t\")\n",
    "print(\"Asabeneh\\t 250\\t Finland Helsinki\\t\")"
   ]
  },
  {
   "cell_type": "code",
   "execution_count": 4,
   "id": "0f36ec6a-727d-435f-ae81-e2c192fe8a43",
   "metadata": {},
   "outputs": [
    {
     "name": "stdout",
     "output_type": "stream",
     "text": [
      "The area of a circle with radius 10 is 314.0 meters square\n"
     ]
    }
   ],
   "source": [
    "#Question8\n",
    "# Assigning the value of radius and calculation of area\n",
    "radius = 10\n",
    "area = 3.14*radius**2\n",
    "\n",
    "# Used the string format function to display the output as required\n",
    "print(\"The area of a circle with radius {} is {} meters square\".format(radius, area))\n",
    "\n"
   ]
  },
  {
   "cell_type": "code",
   "execution_count": 5,
   "id": "0f1efd25-038a-40e0-8fd0-81b35f1fc79e",
   "metadata": {},
   "outputs": [
    {
     "name": "stdin",
     "output_type": "stream",
     "text": [
      "Enter the number of student weights you want to enter 2\n",
      "Enter student 1 weight: 45\n"
     ]
    },
    {
     "name": "stdout",
     "output_type": "stream",
     "text": [
      "The given weights in lbs are: [45.0]\n"
     ]
    },
    {
     "name": "stdin",
     "output_type": "stream",
     "text": [
      "Enter student 2 weight: 67\n"
     ]
    },
    {
     "name": "stdout",
     "output_type": "stream",
     "text": [
      "The given weights in lbs are: [45.0, 67.0]\n",
      "[20.41164]\n",
      "[20.41164, 30.390664]\n"
     ]
    }
   ],
   "source": [
    "#Question9\n",
    "# Taking input from user for number of inputs\n",
    "N = int(input(\"Enter the number of student weights you want to enter\"))\n",
    "weight_in_lbs = []\n",
    "\n",
    "# using for loop for taking input\n",
    "for i in range(N):\n",
    "    weights = float(input(f\"Enter student {i +1} weight:\"))\n",
    "    weight_in_lbs.append(weights)\n",
    "    print(\"The given weights in lbs are:\", weight_in_lbs)\n",
    "# creating an empty list\n",
    "weight_in_kgs = []\n",
    "for weights in weight_in_lbs:\n",
    "\n",
    "   # converting lbs into kgs\n",
    "    weight_in_kg = weights*0.453592\n",
    "    weight_in_kgs.append(weight_in_kg)\n",
    "\n",
    "    print(weight_in_kgs)\n",
    "\n",
    "\n",
    "\n"
   ]
  },
  {
   "cell_type": "code",
   "execution_count": null,
   "id": "3507c7e1-2177-4b75-bbda-cd655b45901a",
   "metadata": {},
   "outputs": [],
   "source": []
  }
 ],
 "metadata": {
  "kernelspec": {
   "display_name": "Python 3 (ipykernel)",
   "language": "python",
   "name": "python3"
  },
  "language_info": {
   "codemirror_mode": {
    "name": "ipython",
    "version": 3
   },
   "file_extension": ".py",
   "mimetype": "text/x-python",
   "name": "python",
   "nbconvert_exporter": "python",
   "pygments_lexer": "ipython3",
   "version": "3.12.2"
  }
 },
 "nbformat": 4,
 "nbformat_minor": 5
}
