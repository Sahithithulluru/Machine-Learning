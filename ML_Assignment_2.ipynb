{
  "nbformat": 4,
  "nbformat_minor": 0,
  "metadata": {
    "colab": {
      "provenance": []
    },
    "kernelspec": {
      "name": "python3",
      "display_name": "Python 3"
    },
    "language_info": {
      "name": "python"
    }
  },
  "cells": [
    {
      "cell_type": "code",
      "execution_count": 1,
      "metadata": {
        "colab": {
          "base_uri": "https://localhost:8080/"
        },
        "id": "tK_6Jt2ULsxo",
        "outputId": "1853cc69-2a8b-420a-f1aa-f2382a6fd928"
      },
      "outputs": [
        {
          "output_type": "stream",
          "name": "stdout",
          "text": [
            "*\n",
            "**\n",
            "***\n",
            "****\n",
            "*****\n",
            "****\n",
            "***\n",
            "**\n",
            "*\n"
          ]
        }
      ],
      "source": [
        "for i in range(1, 6):\n",
        "    for j in range(i): # inner loop runs from 0 to i, where i is the current iteration of the outer loop\n",
        "        print(\"*\",end=\"\")\n",
        "    print(\"\")\n",
        "for i in range(4, 0, -1): # loop starts from 4 and goes till 0 with a step of -1, thus it prints the reverse pattern.\n",
        "    for j in range(i):\n",
        "        print(\"*\",end=\"\")\n",
        "    print(\"\")"
      ]
    },
    {
      "cell_type": "code",
      "source": [
        "my_list = [10, 20, 30, 40, 50, 60, 70, 80, 90, 100]\n",
        "# start from index 1 with 2 steps in between\n",
        "for i in my_list[1::2]:\n",
        "    print(i, end=\" \")"
      ],
      "metadata": {
        "colab": {
          "base_uri": "https://localhost:8080/"
        },
        "id": "WHwXD_6mMITL",
        "outputId": "dcee81c9-5db9-43db-8061-9bffe11cc68b"
      },
      "execution_count": 2,
      "outputs": [
        {
          "output_type": "stream",
          "name": "stdout",
          "text": [
            "20 40 60 80 100 "
          ]
        }
      ]
    },
    {
      "cell_type": "code",
      "source": [
        "x = [23, 'Python', 23.98]\n",
        "types = [] # creating an empty list\n",
        "for i in x:\n",
        "    types.append(type(i)) # using type function\n",
        "print(x)\n",
        "print(types)\n"
      ],
      "metadata": {
        "colab": {
          "base_uri": "https://localhost:8080/"
        },
        "id": "1inguCXUMcto",
        "outputId": "41dbcb2b-9da6-4f68-ce45-ffa850e5e2bf"
      },
      "execution_count": 3,
      "outputs": [
        {
          "output_type": "stream",
          "name": "stdout",
          "text": [
            "[23, 'Python', 23.98]\n",
            "[<class 'int'>, <class 'str'>, <class 'float'>]\n"
          ]
        }
      ]
    },
    {
      "cell_type": "code",
      "source": [
        "def sample_list(l):\n",
        "  x = [] # creating an empty list\n",
        "  for a in l:\n",
        "    if a not in x:\n",
        "      x.append(a)  # using append function\n",
        "  return x\n",
        "print(\"Unique List:\", sample_list([1,2,3,3,3,3,4,5]))"
      ],
      "metadata": {
        "colab": {
          "base_uri": "https://localhost:8080/"
        },
        "id": "fZS8mC0eMfHJ",
        "outputId": "72e838c0-887d-4fcc-d5ba-9c432dd840ba"
      },
      "execution_count": 4,
      "outputs": [
        {
          "output_type": "stream",
          "name": "stdout",
          "text": [
            "Unique List: [1, 2, 3, 4, 5]\n"
          ]
        }
      ]
    },
    {
      "cell_type": "code",
      "source": [
        "def string(s): # using function\n",
        "    u = sum(1 for i in s if i.isupper()) # using is upper function and finding total upper letters\n",
        "    l = sum(1 for i in s if i.islower()) # using is lower function and finding total lower letters\n",
        "    print(\"No. of Upper case characters:\", u)\n",
        "    print(\"No. of lower case characters:\", l)\n",
        "string('The quick Brow Fox')"
      ],
      "metadata": {
        "colab": {
          "base_uri": "https://localhost:8080/"
        },
        "id": "pgPp4wAiMk3s",
        "outputId": "e87111cf-2079-44a2-adcc-b7c93ff5a82b"
      },
      "execution_count": 5,
      "outputs": [
        {
          "output_type": "stream",
          "name": "stdout",
          "text": [
            "No. of Upper case characters: 3\n",
            "No. of lower case characters: 12\n"
          ]
        }
      ]
    }
  ]
}