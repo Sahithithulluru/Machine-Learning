{
  "metadata": {
    "language_info": {
      "codemirror_mode": {
        "name": "python",
        "version": 3
      },
      "file_extension": ".py",
      "mimetype": "text/x-python",
      "name": "python",
      "nbconvert_exporter": "python",
      "pygments_lexer": "ipython3",
      "version": "3.8"
    },
    "kernelspec": {
      "name": "python",
      "display_name": "Python (Pyodide)",
      "language": "python"
    },
    "colab": {
      "provenance": []
    }
  },
  "nbformat_minor": 0,
  "nbformat": 4,
  "cells": [
    {
      "cell_type": "code",
      "source": [
        "# ML ASSIGNMENT-3 // 700752037"
      ],
      "metadata": {
        "id": "kOge0HlksWiu"
      },
      "execution_count": 10,
      "outputs": []
    },
    {
      "cell_type": "code",
      "source": [
        "# 1. Numpy:"
      ],
      "metadata": {
        "id": "JDpEm0a7sWiv"
      },
      "execution_count": 11,
      "outputs": []
    },
    {
      "cell_type": "code",
      "source": [
        "#a\n",
        "# Creating random vector of size 15 having only Integers in the range 1-20.\n",
        "import numpy as np\n",
        "v =  np.random.randint(1,20,(15,))\n",
        "\n",
        "# Reshaping the array to 3 by 5\n",
        "arr = v.reshape(3,5)\n",
        "print(arr.shape)\n",
        "print(arr)\n",
        "\n",
        "# Replacing the max in each row by 0\n",
        "row_max = arr.max(axis=1).reshape(-1,1)\n",
        "arr = np.where(arr == row_max, 0, arr)\n",
        "print('\\n',arr)\n"
      ],
      "metadata": {
        "trusted": true,
        "colab": {
          "base_uri": "https://localhost:8080/"
        },
        "id": "qeXQlwWhsWiv",
        "outputId": "ac8b4182-de34-49e3-d62a-cc8ef5f48377"
      },
      "execution_count": 2,
      "outputs": [
        {
          "output_type": "stream",
          "name": "stdout",
          "text": [
            "(3, 5)\n",
            "[[13 17 10 19 18]\n",
            " [14  8  7  7 11]\n",
            " [14 14 11  5  9]]\n",
            "\n",
            " [[13 17 10  0 18]\n",
            " [ 0  8  7  7 11]\n",
            " [ 0  0 11  5  9]]\n"
          ]
        }
      ]
    },
    {
      "cell_type": "code",
      "source": [
        "# Create a 2-dimensional array of size 4 x 3 (composed of 4-byte integer elements), also print the shape, type and data type of the array\n",
        "x = np.array([[1, 2, 3], [4, 5, 6], [7, 8, 9], [10, 5, 7]], np.int32)\n",
        "print('Shape:', x.shape)\n",
        "print('Type:', type(x))\n",
        "print('Data type:', x.dtype)"
      ],
      "metadata": {
        "trusted": true,
        "colab": {
          "base_uri": "https://localhost:8080/"
        },
        "id": "b-j5Wq2JsWiw",
        "outputId": "25974920-559d-4674-f750-fce7e7a8d854"
      },
      "execution_count": 4,
      "outputs": [
        {
          "output_type": "stream",
          "name": "stdout",
          "text": [
            "Shape: (4, 3)\n",
            "Type: <class 'numpy.ndarray'>\n",
            "Data type: int32\n"
          ]
        }
      ]
    },
    {
      "cell_type": "code",
      "source": [
        "#B\n",
        "import numpy as np\n",
        "\n",
        "# create the square array\n",
        "A = np.array([[3, -2], [1, 0]])\n",
        "\n",
        "# compute eigenvalues and eigenvectors\n",
        "eigenvalues, eigenvectors = np.linalg.eig(A)\n",
        "\n",
        "# print the results\n",
        "print(\"Eigenvalues: \", eigenvalues)\n",
        "print(\"Right Eigenvectors: \\n\", eigenvectors)\n"
      ],
      "metadata": {
        "trusted": true,
        "colab": {
          "base_uri": "https://localhost:8080/"
        },
        "id": "i0z-NRVWsWiw",
        "outputId": "73804bf4-4d6d-455e-e735-bfe122524a0d"
      },
      "execution_count": 5,
      "outputs": [
        {
          "output_type": "stream",
          "name": "stdout",
          "text": [
            "Eigenvalues:  [2. 1.]\n",
            "Right Eigenvectors: \n",
            " [[0.89442719 0.70710678]\n",
            " [0.4472136  0.70710678]]\n"
          ]
        }
      ]
    },
    {
      "cell_type": "code",
      "source": [
        "#C\n",
        "import numpy as np\n",
        "\n",
        "# create the array\n",
        "A = np.array([[0, 1, 2], [3, 4, 5]])\n",
        "\n",
        "# compute the sum of diagonal elements\n",
        "diagonal_sum = np.trace(A)\n",
        "\n",
        "# print the result\n",
        "print(\"Sum of diagonal elements: \", diagonal_sum)\n"
      ],
      "metadata": {
        "trusted": true,
        "colab": {
          "base_uri": "https://localhost:8080/"
        },
        "id": "cc0pwbtmsWiw",
        "outputId": "f60bf7da-7dbb-41d1-ec56-ef9796aed88c"
      },
      "execution_count": 6,
      "outputs": [
        {
          "output_type": "stream",
          "name": "stdout",
          "text": [
            "Sum of diagonal elements:  4\n"
          ]
        }
      ]
    },
    {
      "cell_type": "code",
      "source": [
        "#D\n",
        "# Reshape 3x2\n",
        "import numpy as np\n",
        "\n",
        "# create the original array\n",
        "original_array = np.array([[1, 2], [3, 4], [5, 6]])\n",
        "\n",
        "# reshape the array to a new shape\n",
        "new_array = original_array.reshape((2, 3))\n",
        "\n",
        "# print both arrays to verify the data is not changed\n",
        "print(\"Original array:\\n\", original_array)\n",
        "print(\"New array:\\n\", new_array)\n"
      ],
      "metadata": {
        "trusted": true,
        "colab": {
          "base_uri": "https://localhost:8080/"
        },
        "id": "UCNBp9qPsWix",
        "outputId": "5be52404-79d8-4287-c4ad-4b62b8f8806f"
      },
      "execution_count": 9,
      "outputs": [
        {
          "output_type": "stream",
          "name": "stdout",
          "text": [
            "Original array:\n",
            " [[1 2]\n",
            " [3 4]\n",
            " [5 6]]\n",
            "New array:\n",
            " [[1 2 3]\n",
            " [4 5 6]]\n"
          ]
        }
      ]
    },
    {
      "cell_type": "code",
      "source": [
        "# Reshape 2x3:\n",
        "import numpy as np\n",
        "\n",
        "# create the original array\n",
        "original_array = np.array([[1, 2, 3], [4, 5, 6]])\n",
        "\n",
        "# reshape the array to a new shape\n",
        "new_array = original_array.reshape((2, 3))\n",
        "\n",
        "# print both arrays to verify the data is not changed\n",
        "print(\"Original array:\\n\", original_array)\n",
        "print(\"New array:\\n\", new_array)\n"
      ],
      "metadata": {
        "trusted": true,
        "colab": {
          "base_uri": "https://localhost:8080/"
        },
        "id": "pjnD2ta0sWix",
        "outputId": "bead5809-b3dc-4d2b-fafc-f6726bba51e7"
      },
      "execution_count": 8,
      "outputs": [
        {
          "output_type": "stream",
          "name": "stdout",
          "text": [
            "Original array:\n",
            " [[1 2 3]\n",
            " [4 5 6]]\n",
            "New array:\n",
            " [[1 2 3]\n",
            " [4 5 6]]\n"
          ]
        }
      ]
    }
  ]
}